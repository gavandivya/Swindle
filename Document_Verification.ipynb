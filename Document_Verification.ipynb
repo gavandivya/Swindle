{
  "nbformat": 4,
  "nbformat_minor": 0,
  "metadata": {
    "colab": {
      "name": "Document_Verification.ipynb",
      "provenance": [],
      "collapsed_sections": []
    },
    "kernelspec": {
      "name": "python3",
      "display_name": "Python 3"
    }
  },
  "cells": [
    {
      "cell_type": "markdown",
      "metadata": {
        "id": "3RRDxsBX1gg_"
      },
      "source": [
        "All the documents are verified here!"
      ]
    },
    {
      "cell_type": "code",
      "metadata": {
        "id": "MCGUzSRcJhWM",
        "outputId": "6111fbf2-8a0d-4724-87f2-2210affd1ff5",
        "colab": {
          "base_uri": "https://localhost:8080/"
        }
      },
      "source": [
        "pip install pytesseract"
      ],
      "execution_count": null,
      "outputs": [
        {
          "output_type": "stream",
          "text": [
            "Collecting pytesseract\n",
            "  Downloading https://files.pythonhosted.org/packages/17/4b/4dbd55388225bb6cd243d21f70e77cb3ce061e241257485936324b8e920f/pytesseract-0.3.6.tar.gz\n",
            "Requirement already satisfied: Pillow in /usr/local/lib/python3.6/dist-packages (from pytesseract) (7.0.0)\n",
            "Building wheels for collected packages: pytesseract\n",
            "  Building wheel for pytesseract (setup.py) ... \u001b[?25l\u001b[?25hdone\n",
            "  Created wheel for pytesseract: filename=pytesseract-0.3.6-py2.py3-none-any.whl size=13629 sha256=998d2821f77e34b15c7271c3b332add19b97a29430766eee6851b97e820c599f\n",
            "  Stored in directory: /root/.cache/pip/wheels/ee/71/72/b98430261d849ae631e283dfc7ccb456a3fb2ed2205714b63f\n",
            "Successfully built pytesseract\n",
            "Installing collected packages: pytesseract\n",
            "Successfully installed pytesseract-0.3.6\n"
          ],
          "name": "stdout"
        }
      ]
    },
    {
      "cell_type": "code",
      "metadata": {
        "id": "VfMKDaqPJh-k",
        "outputId": "2ed8c230-0a59-437a-c762-7863398a981e",
        "colab": {
          "base_uri": "https://localhost:8080/"
        }
      },
      "source": [
        "!sudo apt-get install tesseract-ocr\n",
        "!sudo apt-get install libtesseract-dev\n",
        "import cv2\n",
        "import pytesseract\n",
        "img=cv2.imread('/content/payslip.png')\n",
        "text=pytesseract.image_to_string(img)\n",
        "print(text)"
      ],
      "execution_count": null,
      "outputs": [
        {
          "output_type": "stream",
          "text": [
            "Reading package lists... Done\n",
            "Building dependency tree       \n",
            "Reading state information... Done\n",
            "The following additional packages will be installed:\n",
            "  tesseract-ocr-eng tesseract-ocr-osd\n",
            "The following NEW packages will be installed:\n",
            "  tesseract-ocr tesseract-ocr-eng tesseract-ocr-osd\n",
            "0 upgraded, 3 newly installed, 0 to remove and 11 not upgraded.\n",
            "Need to get 4,795 kB of archives.\n",
            "After this operation, 15.8 MB of additional disk space will be used.\n",
            "Get:1 http://archive.ubuntu.com/ubuntu bionic/universe amd64 tesseract-ocr-eng all 4.00~git24-0e00fe6-1.2 [1,588 kB]\n",
            "Get:2 http://archive.ubuntu.com/ubuntu bionic/universe amd64 tesseract-ocr-osd all 4.00~git24-0e00fe6-1.2 [2,989 kB]\n",
            "Get:3 http://archive.ubuntu.com/ubuntu bionic/universe amd64 tesseract-ocr amd64 4.00~git2288-10f4998a-2 [218 kB]\n",
            "Fetched 4,795 kB in 1s (4,545 kB/s)\n",
            "debconf: unable to initialize frontend: Dialog\n",
            "debconf: (No usable dialog-like program is installed, so the dialog based frontend cannot be used. at /usr/share/perl5/Debconf/FrontEnd/Dialog.pm line 76, <> line 3.)\n",
            "debconf: falling back to frontend: Readline\n",
            "debconf: unable to initialize frontend: Readline\n",
            "debconf: (This frontend requires a controlling tty.)\n",
            "debconf: falling back to frontend: Teletype\n",
            "dpkg-preconfigure: unable to re-open stdin: \n",
            "Selecting previously unselected package tesseract-ocr-eng.\n",
            "(Reading database ... 144628 files and directories currently installed.)\n",
            "Preparing to unpack .../tesseract-ocr-eng_4.00~git24-0e00fe6-1.2_all.deb ...\n",
            "Unpacking tesseract-ocr-eng (4.00~git24-0e00fe6-1.2) ...\n",
            "Selecting previously unselected package tesseract-ocr-osd.\n",
            "Preparing to unpack .../tesseract-ocr-osd_4.00~git24-0e00fe6-1.2_all.deb ...\n",
            "Unpacking tesseract-ocr-osd (4.00~git24-0e00fe6-1.2) ...\n",
            "Selecting previously unselected package tesseract-ocr.\n",
            "Preparing to unpack .../tesseract-ocr_4.00~git2288-10f4998a-2_amd64.deb ...\n",
            "Unpacking tesseract-ocr (4.00~git2288-10f4998a-2) ...\n",
            "Setting up tesseract-ocr-osd (4.00~git24-0e00fe6-1.2) ...\n",
            "Setting up tesseract-ocr-eng (4.00~git24-0e00fe6-1.2) ...\n",
            "Setting up tesseract-ocr (4.00~git2288-10f4998a-2) ...\n",
            "Processing triggers for man-db (2.8.3-2ubuntu0.1) ...\n",
            "Reading package lists... Done\n",
            "Building dependency tree       \n",
            "Reading state information... Done\n",
            "The following additional packages will be installed:\n",
            "  libleptonica-dev\n",
            "The following NEW packages will be installed:\n",
            "  libleptonica-dev libtesseract-dev\n",
            "0 upgraded, 2 newly installed, 0 to remove and 11 not upgraded.\n",
            "Need to get 2,755 kB of archives.\n",
            "After this operation, 13.8 MB of additional disk space will be used.\n",
            "Get:1 http://archive.ubuntu.com/ubuntu bionic/universe amd64 libleptonica-dev amd64 1.75.3-3 [1,308 kB]\n",
            "Get:2 http://archive.ubuntu.com/ubuntu bionic/universe amd64 libtesseract-dev amd64 4.00~git2288-10f4998a-2 [1,447 kB]\n",
            "Fetched 2,755 kB in 1s (2,862 kB/s)\n",
            "debconf: unable to initialize frontend: Dialog\n",
            "debconf: (No usable dialog-like program is installed, so the dialog based frontend cannot be used. at /usr/share/perl5/Debconf/FrontEnd/Dialog.pm line 76, <> line 2.)\n",
            "debconf: falling back to frontend: Readline\n",
            "debconf: unable to initialize frontend: Readline\n",
            "debconf: (This frontend requires a controlling tty.)\n",
            "debconf: falling back to frontend: Teletype\n",
            "dpkg-preconfigure: unable to re-open stdin: \n",
            "Selecting previously unselected package libleptonica-dev.\n",
            "(Reading database ... 144675 files and directories currently installed.)\n",
            "Preparing to unpack .../libleptonica-dev_1.75.3-3_amd64.deb ...\n",
            "Unpacking libleptonica-dev (1.75.3-3) ...\n",
            "Selecting previously unselected package libtesseract-dev.\n",
            "Preparing to unpack .../libtesseract-dev_4.00~git2288-10f4998a-2_amd64.deb ...\n",
            "Unpacking libtesseract-dev (4.00~git2288-10f4998a-2) ...\n",
            "Setting up libleptonica-dev (1.75.3-3) ...\n",
            "Setting up libtesseract-dev (4.00~git2288-10f4998a-2) ...\n",
            " \n",
            "\n",
            "Lenvica Computer Solutions Pvt Ltd\n",
            "\n",
            "Novel Business Center, #10, BTM Ist Stage\n",
            "\n",
            "Payslip for the period of May 2018\n",
            "\n",
            "lenvica\n",
            "\n",
            " \n",
            "\n",
            " \n",
            "\n",
            " \n",
            "\n",
            " \n",
            "\n",
            " \n",
            "\n",
            " \n",
            "\n",
            " \n",
            "\n",
            "Employee Id + 11001 Name : Alex Jacob\n",
            "\n",
            "Department : Information Technology Designation + Sr. Software Engineer\n",
            "\n",
            "Days Worked 222.0 Bank Name, Branch = HSBC, Lagos\n",
            "\n",
            "Bank Acet/Cheque Number 18005110026 Casual Leave = 0.0 (Op: 4.0 Cl: 4.0)\n",
            "\n",
            "Earned Leave = 0.0 (Op: 5.0 Cl: 5.0) Overtime Hours 2 34.00\n",
            "\n",
            "Earnings Amount | Deductions Amount\n",
            "\n",
            "Basic Pay 1,368.00 | National Insurance 85.00\n",
            "\n",
            "Medical Allowance 273.60 | Loss of Pay 0.00\n",
            "\n",
            "Housing Allowance 136.80 | Loan Repayment 230.00\n",
            "\n",
            "Conveyance Allowance 136.80 | Advance Repayment 360.00\n",
            "\n",
            "Food Allowance 68.40\n",
            "\n",
            "Overtime Allowance 340.00\n",
            "\n",
            "Total Earnings (Rounded) 2,524.00 | Total Deductions (Rounded) 675.00\n",
            "Net Pay (Rounded) 1,849.00\n",
            "\n",
            "Employer's Signature Employee's Signature\n",
            "\n",
            " \n",
            "\n",
            " \n",
            "\f\n"
          ],
          "name": "stdout"
        }
      ]
    },
    {
      "cell_type": "code",
      "metadata": {
        "id": "ewKjFdguSRcT",
        "outputId": "d44c6a15-d243-41a9-8124-37357b6733d8",
        "colab": {
          "base_uri": "https://localhost:8080/"
        }
      },
      "source": [
        "import cv2\n",
        "import pytesseract\n",
        "img=cv2.imread('/content/payslip.png')\n",
        "text=pytesseract.image_to_string(img)\n",
        "print(text[text.index('Net Pay (Rounded)'):text.index(\"\\n\",text.index('Net Pay (Rounded)'))])"
      ],
      "execution_count": null,
      "outputs": [
        {
          "output_type": "stream",
          "text": [
            "Net Pay (Rounded) 1,849.00\n"
          ],
          "name": "stdout"
        }
      ]
    },
    {
      "cell_type": "code",
      "metadata": {
        "id": "cK0dIIimKf8C",
        "outputId": "fadb59d7-eeac-4d9f-c7fa-5e70fa101893",
        "colab": {
          "base_uri": "https://localhost:8080/"
        }
      },
      "source": [
        "import cv2\n",
        "import pytesseract\n",
        "img=cv2.imread('/content/driving_license.jpeg')\n",
        "text=pytesseract.image_to_string(img)\n",
        "print(text[text.index('DL No '):])"
      ],
      "execution_count": null,
      "outputs": [
        {
          "output_type": "stream",
          "text": [
            "DL No MM03 20080022135 DO! - 24-01-2007\n",
            "Valid Till 23-04-2027 (NT) 09-03-2011 (TR)\n",
            "AED 15-03-2008\n",
            "\n",
            "   \n",
            "\n",
            "AUTHORISATION TO DRIVE FOLLOWING CLASS\n",
            "OF VEHICLES THROUGHOUT INDIA\n",
            "— COV DOI\n",
            "MCWG ) = 24-01-2007\n",
            "LMV 24-01-2007\n",
            "TRANS 10-03-2008\n",
            "\n",
            " \n",
            "       \n",
            "     \n",
            " \n",
            "    \n",
            "\n",
            "DOB . 01-12-1987 8G\n",
            "Name (BABU KHAN\n",
            "S/OMW of JABBAR KHAN\n",
            "Add KALA RAMAN NAGAR, BAIGANWADI,\n",
            "\n",
            " \n",
            "       \n",
            "    \n",
            "\n",
            "GOVANDI, MUMBAI.\n",
            "GPPU ER,\n",
            "PIN 400043 w\n",
            "’ MHO3 2008261 Impression of Holder\n",
            "\n",
            "    \n",
            "  \n",
            "\n",
            "   \n",
            "\f\n"
          ],
          "name": "stdout"
        }
      ]
    },
    {
      "cell_type": "code",
      "metadata": {
        "id": "sVfrBBy1VIYm",
        "outputId": "a5499f8e-16a5-4fa1-c7f1-e7175f7100c3",
        "colab": {
          "base_uri": "https://localhost:8080/"
        }
      },
      "source": [
        "import cv2\n",
        "import pytesseract\n",
        "img=cv2.imread('/content/driving_license.jpeg')\n",
        "text=pytesseract.image_to_string(img)\n",
        "s=text[text.index('Add')+3:text.index('MUMBAI.')+7]\n",
        "s=s.replace(\"\\n\", \" \")\n",
        "r=[]\n",
        "for i in list(s.strip().split(',')):\n",
        "  r.append(i.strip())\n",
        "  r.append(',')\n",
        "r=r[:-1]\n",
        "print(*r)"
      ],
      "execution_count": null,
      "outputs": [
        {
          "output_type": "stream",
          "text": [
            "KALA RAMAN NAGAR , BAIGANWADI , GOVANDI , MUMBAI.\n"
          ],
          "name": "stdout"
        }
      ]
    },
    {
      "cell_type": "code",
      "metadata": {
        "id": "PWT5ZO3hIC-a",
        "outputId": "9c93fa9d-bdb5-48ee-a543-5f68411cc777",
        "colab": {
          "base_uri": "https://localhost:8080/"
        }
      },
      "source": [
        "import cv2\n",
        "import pytesseract\n",
        "img=cv2.imread('/content/pan.jpg')\n",
        "text=pytesseract.image_to_string(img)\n",
        "print(text)"
      ],
      "execution_count": null,
      "outputs": [
        {
          "output_type": "stream",
          "text": [
            "y 4 a:\n",
            "sree fermst\n",
            "INCOME TAX DEPARTMENT\n",
            "SURYABHAN YADAV\n",
            "\n",
            "SHIVDAN YADAV\n",
            "\n",
            " \n",
            "\n",
            "16/10/1972\n",
            "\n",
            "Permanent Account Number\n",
            "\n",
            "AHEPY8216D\n",
            "\n",
            "A LM or\n",
            "\n",
            "as Signature | | 2\n",
            "\n",
            "20122011\n",
            "\f\n"
          ],
          "name": "stdout"
        }
      ]
    },
    {
      "cell_type": "code",
      "metadata": {
        "id": "k-xQm3X165JH",
        "outputId": "7c69a5b8-fac2-4d67-aa10-67b3872bd1e7",
        "colab": {
          "base_uri": "https://localhost:8080/"
        }
      },
      "source": [
        "import cv2\n",
        "import pytesseract\n",
        "img=cv2.imread('/content/aadhar_card.jpg')\n",
        "text=pytesseract.image_to_string(img)\n",
        "print(text)"
      ],
      "execution_count": null,
      "outputs": [
        {
          "output_type": "stream",
          "text": [
            "Aah\n",
            "\n",
            "Name: Kettan Singh\n",
            "Show: Janhit Mein Jaari\n",
            "Topic: Aadhaaritis\n",
            "\n",
            "4444 5555 6666 ~\n",
            "\n",
            " \n",
            "\f\n"
          ],
          "name": "stdout"
        }
      ]
    },
    {
      "cell_type": "code",
      "metadata": {
        "id": "66ueKkpKJ8NZ",
        "outputId": "d4a1f725-c390-47ea-fadb-d746ee195d01",
        "colab": {
          "base_uri": "https://localhost:8080/"
        }
      },
      "source": [
        "import cv2\n",
        "import pytesseract\n",
        "img=cv2.imread('/content/aadhar_card.jpg')\n",
        "text=pytesseract.image_to_string(img)\n",
        "print(text[text.index('Name:'):text.index(\"\\n\",text.index('Name:'))])\n",
        "print(text[text.index('Show:'):text.index(\"\\n\",text.index('Show:'))])\n",
        "print(text[text.index('Topic:'):text.index(\"\\n\",text.index('Topic:'))])"
      ],
      "execution_count": null,
      "outputs": [
        {
          "output_type": "stream",
          "text": [
            "Name: Kettan Singh\n",
            "Show: Janhit Mein Jaari\n",
            "Topic: Aadhaaritis\n"
          ],
          "name": "stdout"
        }
      ]
    },
    {
      "cell_type": "code",
      "metadata": {
        "id": "5AfHmUTkGGes",
        "outputId": "e1c09fb9-8479-4e17-f94f-5ac96a6cb07c",
        "colab": {
          "base_uri": "https://localhost:8080/"
        }
      },
      "source": [
        "# !sudo apt-get install zbar-tools\n",
        "# !sudo pip install pyzbar\n",
        "from pyzbar.pyzbar import decode\n",
        "from PIL import Image\n",
        "d = decode(Image.open('/content/aadhar_card.jpg'))\n",
        "print(d[0].data.decode())"
      ],
      "execution_count": null,
      "outputs": [
        {
          "output_type": "stream",
          "text": [
            "<?xml version=\"1.0\" encoding=\"UTF-8\"?> <PrintLetterBarcodeData uid=\"319959089227\" name=\"Mridull Prajapati\" gender=\"M\" dob=\"14-02-1987\" house=\"3, ESPERANCA\" Street=\"D MONTE LANE\" lm=\"NEXT TO BIRDYS CAKE SHOP\" loc=\"ORLEM\" vtc=\"Malad (West)\" dist=\"Mumbai( Sub Urban )\" state=\"Maharashtra\" pc=\"400064\" dob=\"14-02-1987\">\n"
          ],
          "name": "stdout"
        }
      ]
    }
  ]
}